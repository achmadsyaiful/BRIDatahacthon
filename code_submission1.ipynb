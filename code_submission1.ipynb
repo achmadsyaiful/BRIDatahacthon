{
 "cells": [
  {
   "cell_type": "markdown",
   "metadata": {},
   "source": [
    "### Library"
   ]
  },
  {
   "cell_type": "code",
   "execution_count": 1,
   "metadata": {},
   "outputs": [],
   "source": [
    "# load library\n",
    "import pandas as pd\n",
    "import numpy as np\n",
    "import warnings\n",
    "warnings.filterwarnings('ignore')"
   ]
  },
  {
   "cell_type": "markdown",
   "metadata": {},
   "source": [
    "### Data Prepocessing"
   ]
  },
  {
   "cell_type": "code",
   "execution_count": 2,
   "metadata": {},
   "outputs": [],
   "source": [
    "# load dataset\n",
    "train = pd.read_csv('train.csv')"
   ]
  },
  {
   "cell_type": "code",
   "execution_count": 3,
   "metadata": {},
   "outputs": [
    {
     "data": {
      "text/html": [
       "<div>\n",
       "<style scoped>\n",
       "    .dataframe tbody tr th:only-of-type {\n",
       "        vertical-align: middle;\n",
       "    }\n",
       "\n",
       "    .dataframe tbody tr th {\n",
       "        vertical-align: top;\n",
       "    }\n",
       "\n",
       "    .dataframe thead th {\n",
       "        text-align: right;\n",
       "    }\n",
       "</style>\n",
       "<table border=\"1\" class=\"dataframe\">\n",
       "  <thead>\n",
       "    <tr style=\"text-align: right;\">\n",
       "      <th></th>\n",
       "      <th>periode</th>\n",
       "      <th>kas_kantor</th>\n",
       "      <th>kas_echannel</th>\n",
       "      <th>kas_kantor_lag1</th>\n",
       "      <th>kas_echannel_lag1</th>\n",
       "      <th>periode_new</th>\n",
       "      <th>week</th>\n",
       "      <th>day</th>\n",
       "    </tr>\n",
       "  </thead>\n",
       "  <tbody>\n",
       "    <tr>\n",
       "      <th>0</th>\n",
       "      <td>2019-07-31</td>\n",
       "      <td>1.928940e+09</td>\n",
       "      <td>2.939100e+09</td>\n",
       "      <td>NaN</td>\n",
       "      <td>NaN</td>\n",
       "      <td>2019-07-31</td>\n",
       "      <td>3</td>\n",
       "      <td>31</td>\n",
       "    </tr>\n",
       "    <tr>\n",
       "      <th>1</th>\n",
       "      <td>2019-08-01</td>\n",
       "      <td>7.849126e+10</td>\n",
       "      <td>2.837250e+09</td>\n",
       "      <td>7.656232e+10</td>\n",
       "      <td>-101850000.0</td>\n",
       "      <td>2019-08-01</td>\n",
       "      <td>4</td>\n",
       "      <td>1</td>\n",
       "    </tr>\n",
       "    <tr>\n",
       "      <th>2</th>\n",
       "      <td>2019-08-02</td>\n",
       "      <td>3.917620e+11</td>\n",
       "      <td>2.948050e+09</td>\n",
       "      <td>3.132708e+11</td>\n",
       "      <td>110800000.0</td>\n",
       "      <td>2019-08-02</td>\n",
       "      <td>5</td>\n",
       "      <td>2</td>\n",
       "    </tr>\n",
       "    <tr>\n",
       "      <th>3</th>\n",
       "      <td>2019-08-03</td>\n",
       "      <td>3.930133e+11</td>\n",
       "      <td>3.693800e+09</td>\n",
       "      <td>1.251294e+09</td>\n",
       "      <td>745750000.0</td>\n",
       "      <td>2019-08-03</td>\n",
       "      <td>6</td>\n",
       "      <td>3</td>\n",
       "    </tr>\n",
       "    <tr>\n",
       "      <th>4</th>\n",
       "      <td>2019-08-04</td>\n",
       "      <td>3.057206e+11</td>\n",
       "      <td>3.829300e+09</td>\n",
       "      <td>-8.729274e+10</td>\n",
       "      <td>135500000.0</td>\n",
       "      <td>2019-08-04</td>\n",
       "      <td>7</td>\n",
       "      <td>4</td>\n",
       "    </tr>\n",
       "  </tbody>\n",
       "</table>\n",
       "</div>"
      ],
      "text/plain": [
       "      periode    kas_kantor  kas_echannel  kas_kantor_lag1  kas_echannel_lag1  \\\n",
       "0  2019-07-31  1.928940e+09  2.939100e+09              NaN                NaN   \n",
       "1  2019-08-01  7.849126e+10  2.837250e+09     7.656232e+10       -101850000.0   \n",
       "2  2019-08-02  3.917620e+11  2.948050e+09     3.132708e+11        110800000.0   \n",
       "3  2019-08-03  3.930133e+11  3.693800e+09     1.251294e+09        745750000.0   \n",
       "4  2019-08-04  3.057206e+11  3.829300e+09    -8.729274e+10        135500000.0   \n",
       "\n",
       "  periode_new  week  day  \n",
       "0  2019-07-31     3   31  \n",
       "1  2019-08-01     4    1  \n",
       "2  2019-08-02     5    2  \n",
       "3  2019-08-03     6    3  \n",
       "4  2019-08-04     7    4  "
      ]
     },
     "execution_count": 3,
     "metadata": {},
     "output_type": "execute_result"
    }
   ],
   "source": [
    "train = train[['periode','kas_kantor','kas_echannel']]\n",
    "\n",
    "# calculate lag-1\n",
    "train['kas_kantor_lag1'] = train.kas_kantor - train.kas_kantor.shift(1)\n",
    "train['kas_echannel_lag1'] = train.kas_echannel - train.kas_echannel.shift(1)\n",
    "\n",
    "# extract weekofday & day\n",
    "train['periode_new'] = pd.to_datetime(train['periode'])\n",
    "train['week'] = train['periode_new'].dt.dayofweek + 1\n",
    "train['day'] = train['periode_new'].dt.day\n",
    "train.head()"
   ]
  },
  {
   "cell_type": "code",
   "execution_count": 4,
   "metadata": {},
   "outputs": [],
   "source": [
    "# mean by week\n",
    "agg_by_week = (train.groupby(['week'], as_index=False)\n",
    "         .agg({'kas_kantor_lag1':'mean','kas_echannel_lag1':'mean'})\n",
    "              .rename(columns={'kas_kantor_lag1':'mean_by_week_kantor', 'kas_echannel_lag1':'mean_by_week_echannel'}))"
   ]
  },
  {
   "cell_type": "code",
   "execution_count": 5,
   "metadata": {},
   "outputs": [],
   "source": [
    "# mean by day\n",
    "agg_by_day = (train.groupby(['day'], as_index=False)\n",
    "         .agg({'kas_kantor_lag1':'mean','kas_echannel_lag1':'mean'})\n",
    "              .rename(columns={'kas_kantor_lag1':'mean_by_day_kantor', 'kas_echannel_lag1':'mean_by_day_echannel'}))"
   ]
  },
  {
   "cell_type": "markdown",
   "metadata": {},
   "source": [
    "### Predict with Validation Dataset"
   ]
  },
  {
   "cell_type": "code",
   "execution_count": 6,
   "metadata": {},
   "outputs": [],
   "source": [
    "# join with aggregation data\n",
    "test = train[train.periode_new>='2020-08-31']\n",
    "test = test.merge(agg_by_day, on='day', how='left')\n",
    "test = test.merge(agg_by_week, on='week', how='left')\n",
    "\n",
    "# weighted mean between mean by day & mean by week\n",
    "test['weighted_mean_kantor'] = 0.1*test['mean_by_day_kantor']+0.9*test['mean_by_week_kantor']\n",
    "test['weighted_mean_echannel'] = 0.1*test['mean_by_day_echannel']+0.9*test['mean_by_week_echannel']\n",
    "import copy\n",
    "test2 = copy.deepcopy(test)\n",
    "test = test[test.periode_new>='2020-09-01']\n",
    "test = test.reset_index(drop=True)"
   ]
  },
  {
   "cell_type": "code",
   "execution_count": 7,
   "metadata": {},
   "outputs": [
    {
     "name": "stdout",
     "output_type": "stream",
     "text": [
      "MAPE kantor :  0.00995099850106269 \n",
      "\n",
      "MAPE echannel :  0.0943262362728701 \n",
      "\n",
      "MAPE overal :  0.052138617386966395\n"
     ]
    }
   ],
   "source": [
    "# predict\n",
    "test['predict_kantor']=0\n",
    "test['predict_echannel']=0\n",
    "for i in list(range(len(test))):\n",
    "    if i==0:\n",
    "        test['predict_kantor'][i] = test.loc[i,'weighted_mean_kantor']+test2.loc[i,'kas_kantor']\n",
    "        test['predict_echannel'][i] = test.loc[i,'weighted_mean_echannel']+test2.loc[i,'kas_echannel']\n",
    "    else:\n",
    "        test['predict_kantor'][i] = test.loc[i,'weighted_mean_kantor']+test.loc[i-1,'predict_kantor']\n",
    "        test['predict_echannel'][i] = test.loc[i,'weighted_mean_echannel']+test.loc[i-1,'predict_echannel']\n",
    "test['absolute_error_kantor'] = np.abs((test['predict_kantor']-test['kas_kantor'])/test['kas_kantor'])\n",
    "test['absolute_error_echannel'] = np.abs((test['predict_echannel']-test['kas_echannel'])/test['kas_echannel'])\n",
    "\n",
    "# evaluation score\n",
    "print('MAPE kantor : ',np.mean(test.absolute_error_kantor),'\\n')\n",
    "print('MAPE echannel : ',np.mean(test.absolute_error_echannel),'\\n')\n",
    "print('MAPE overal : ',((np.mean(test.absolute_error_kantor))+(np.mean(test.absolute_error_echannel)))/2)"
   ]
  },
  {
   "cell_type": "code",
   "execution_count": 8,
   "metadata": {},
   "outputs": [
    {
     "data": {
      "text/html": [
       "<div>\n",
       "<style scoped>\n",
       "    .dataframe tbody tr th:only-of-type {\n",
       "        vertical-align: middle;\n",
       "    }\n",
       "\n",
       "    .dataframe tbody tr th {\n",
       "        vertical-align: top;\n",
       "    }\n",
       "\n",
       "    .dataframe thead th {\n",
       "        text-align: right;\n",
       "    }\n",
       "</style>\n",
       "<table border=\"1\" class=\"dataframe\">\n",
       "  <thead>\n",
       "    <tr style=\"text-align: right;\">\n",
       "      <th></th>\n",
       "      <th>periode</th>\n",
       "      <th>predict_kantor</th>\n",
       "      <th>predict_echannel</th>\n",
       "    </tr>\n",
       "  </thead>\n",
       "  <tbody>\n",
       "    <tr>\n",
       "      <th>0</th>\n",
       "      <td>2020-09-01</td>\n",
       "      <td>10537183738407</td>\n",
       "      <td>5032020526</td>\n",
       "    </tr>\n",
       "    <tr>\n",
       "      <th>1</th>\n",
       "      <td>2020-09-02</td>\n",
       "      <td>10557335515539</td>\n",
       "      <td>4928745954</td>\n",
       "    </tr>\n",
       "    <tr>\n",
       "      <th>2</th>\n",
       "      <td>2020-09-03</td>\n",
       "      <td>10595066505732</td>\n",
       "      <td>4794554061</td>\n",
       "    </tr>\n",
       "    <tr>\n",
       "      <th>3</th>\n",
       "      <td>2020-09-04</td>\n",
       "      <td>10790124360768</td>\n",
       "      <td>5002942737</td>\n",
       "    </tr>\n",
       "    <tr>\n",
       "      <th>4</th>\n",
       "      <td>2020-09-05</td>\n",
       "      <td>10793660312421</td>\n",
       "      <td>5421086665</td>\n",
       "    </tr>\n",
       "  </tbody>\n",
       "</table>\n",
       "</div>"
      ],
      "text/plain": [
       "      periode  predict_kantor  predict_echannel\n",
       "0  2020-09-01  10537183738407        5032020526\n",
       "1  2020-09-02  10557335515539        4928745954\n",
       "2  2020-09-03  10595066505732        4794554061\n",
       "3  2020-09-04  10790124360768        5002942737\n",
       "4  2020-09-05  10793660312421        5421086665"
      ]
     },
     "execution_count": 8,
     "metadata": {},
     "output_type": "execute_result"
    }
   ],
   "source": [
    "test[['periode','predict_kantor','predict_echannel']].head()"
   ]
  },
  {
   "cell_type": "markdown",
   "metadata": {},
   "source": [
    "### Forecast 30days ahead"
   ]
  },
  {
   "cell_type": "code",
   "execution_count": 9,
   "metadata": {},
   "outputs": [],
   "source": [
    "# data preparation\n",
    "datelist = pd.date_range('2020-10-01', periods=31) # by default, starting date forecast = 2020-10-01 , n_periode = 31\n",
    "df_submission = pd.DataFrame()\n",
    "df_submission['periode'] = datelist\n",
    "df_submission['periode_new'] = pd.to_datetime(df_submission['periode'])\n",
    "df_submission['week'] = df_submission['periode_new'].dt.dayofweek + 1\n",
    "df_submission['day'] = df_submission['periode_new'].dt.day"
   ]
  },
  {
   "cell_type": "code",
   "execution_count": 10,
   "metadata": {},
   "outputs": [],
   "source": [
    "# weighted mean between mean by day & mean by week\n",
    "df_submission = df_submission.merge(agg_by_day, on='day', how='left')\n",
    "df_submission = df_submission.merge(agg_by_week, on='week', how='left')\n",
    "df_submission['weighted_mean_kantor'] = 0.1*df_submission['mean_by_day_kantor']+0.9*df_submission['mean_by_week_kantor']\n",
    "df_submission['weighted_mean_echannel'] = 0.1*df_submission['mean_by_day_echannel']+0.9*df_submission['mean_by_week_echannel']"
   ]
  },
  {
   "cell_type": "code",
   "execution_count": 11,
   "metadata": {},
   "outputs": [],
   "source": [
    "#forecast\n",
    "df_submission['predict_kantor']=0\n",
    "df_submission['predict_echannel']=0\n",
    "for i in list(range(len(df_submission))):\n",
    "    if i==0:\n",
    "        df_submission['predict_kantor'][i] = df_submission.loc[i,'weighted_mean_kantor']+test.loc[len(test)-1,'kas_kantor']\n",
    "        df_submission['predict_echannel'][i] = df_submission.loc[i,'weighted_mean_echannel']+test.loc[len(test)-1,'kas_echannel']\n",
    "    else:\n",
    "        df_submission['predict_kantor'][i] = df_submission.loc[i,'weighted_mean_kantor']+df_submission.loc[i-1,'predict_kantor']\n",
    "        df_submission['predict_echannel'][i] = df_submission.loc[i,'weighted_mean_echannel']+df_submission.loc[i-1,'predict_echannel']"
   ]
  },
  {
   "cell_type": "code",
   "execution_count": 12,
   "metadata": {},
   "outputs": [
    {
     "data": {
      "text/html": [
       "<div>\n",
       "<style scoped>\n",
       "    .dataframe tbody tr th:only-of-type {\n",
       "        vertical-align: middle;\n",
       "    }\n",
       "\n",
       "    .dataframe tbody tr th {\n",
       "        vertical-align: top;\n",
       "    }\n",
       "\n",
       "    .dataframe thead th {\n",
       "        text-align: right;\n",
       "    }\n",
       "</style>\n",
       "<table border=\"1\" class=\"dataframe\">\n",
       "  <thead>\n",
       "    <tr style=\"text-align: right;\">\n",
       "      <th></th>\n",
       "      <th>periode</th>\n",
       "      <th>predict_kantor</th>\n",
       "      <th>predict_echannel</th>\n",
       "    </tr>\n",
       "  </thead>\n",
       "  <tbody>\n",
       "    <tr>\n",
       "      <th>0</th>\n",
       "      <td>2020-10-01</td>\n",
       "      <td>11432309813598</td>\n",
       "      <td>5168871678</td>\n",
       "    </tr>\n",
       "    <tr>\n",
       "      <th>1</th>\n",
       "      <td>2020-10-02</td>\n",
       "      <td>11621797035903</td>\n",
       "      <td>5377178926</td>\n",
       "    </tr>\n",
       "    <tr>\n",
       "      <th>2</th>\n",
       "      <td>2020-10-03</td>\n",
       "      <td>11631565127158</td>\n",
       "      <td>5807776783</td>\n",
       "    </tr>\n",
       "    <tr>\n",
       "      <th>3</th>\n",
       "      <td>2020-10-04</td>\n",
       "      <td>11543143630096</td>\n",
       "      <td>5658838164</td>\n",
       "    </tr>\n",
       "    <tr>\n",
       "      <th>4</th>\n",
       "      <td>2020-10-05</td>\n",
       "      <td>11550018859079</td>\n",
       "      <td>5569533322</td>\n",
       "    </tr>\n",
       "  </tbody>\n",
       "</table>\n",
       "</div>"
      ],
      "text/plain": [
       "     periode  predict_kantor  predict_echannel\n",
       "0 2020-10-01  11432309813598        5168871678\n",
       "1 2020-10-02  11621797035903        5377178926\n",
       "2 2020-10-03  11631565127158        5807776783\n",
       "3 2020-10-04  11543143630096        5658838164\n",
       "4 2020-10-05  11550018859079        5569533322"
      ]
     },
     "execution_count": 12,
     "metadata": {},
     "output_type": "execute_result"
    }
   ],
   "source": [
    "df_submission[['periode','predict_kantor','predict_echannel']].head()"
   ]
  },
  {
   "cell_type": "code",
   "execution_count": 13,
   "metadata": {},
   "outputs": [],
   "source": [
    "# save data for submission\n",
    "submission = pd.DataFrame({'index':list(range(0,62)), 'value':list(df_submission.predict_kantor.values)+list(df_submission.predict_echannel.values)})\n",
    "submission.to_csv('cro_submission_python.csv', index=False)"
   ]
  }
 ],
 "metadata": {
  "kernelspec": {
   "display_name": "Python 3",
   "language": "python",
   "name": "python3"
  },
  "language_info": {
   "codemirror_mode": {
    "name": "ipython",
    "version": 3
   },
   "file_extension": ".py",
   "mimetype": "text/x-python",
   "name": "python",
   "nbconvert_exporter": "python",
   "pygments_lexer": "ipython3",
   "version": "3.7.0"
  }
 },
 "nbformat": 4,
 "nbformat_minor": 2
}
